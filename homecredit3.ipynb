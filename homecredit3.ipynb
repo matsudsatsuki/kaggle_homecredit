{
 "cells": [
  {
   "cell_type": "code",
   "execution_count": 41,
   "source": [
    "import numpy as np\n",
    "import pandas as pd\n",
    "import matplotlib.pyplot as plt\n",
    "import seaborn as sns \n",
    "from sklearn.preprocessing import LabelEncoder\n",
    "import category_encoders as ce\n",
    "from sklearn.ensemble import RandomForestClassifier,GradientBoostingClassifier,AdaBoostClassifier\n",
    "from sklearn.compose import ColumnTransformer\n",
    "from sklearn.pipeline import Pipeline\n",
    "from sklearn import set_config\n",
    "from sklearn.model_selection import train_test_split\n",
    "from sklearn.model_selection import GridSearchCV,RandomizedSearchCV,ParameterGrid\n",
    "#import optuna.integration.lightgbm as lgb\n",
    "from sklearn.model_selection import cross_val_score\n",
    "import optuna\n",
    "from sklearn.metrics import accuracy_score,f1_score\n",
    "from sklearn.metrics import roc_auc_score\n",
    "import featuretools as ft\n",
    "import lightgbm as lgb\n",
    "\n",
    "%matplotlib inline"
   ],
   "outputs": [],
   "metadata": {}
  },
  {
   "cell_type": "code",
   "execution_count": 34,
   "source": [
    "from sklearn.impute import SimpleImputer\n",
    "from sklearn.preprocessing import StandardScaler,OneHotEncoder,MinMaxScaler,RobustScaler\n",
    "from sklearn.compose import ColumnTransformer\n",
    "from sklearn.pipeline import Pipeline\n",
    "from sklearn import set_config\n",
    "from sklearn.model_selection import GridSearchCV,RandomizedSearchCV,ParameterGrid\n",
    "from sklearn.metrics import accuracy_score,f1_score"
   ],
   "outputs": [],
   "metadata": {}
  },
  {
   "cell_type": "code",
   "execution_count": null,
   "source": [
    "app_train = pd.read_csv('application_train.csv').sort_values('SK_ID_CURR').reset_index(drop = True).loc[:1000, :]\n",
    "app_test = pd.read_csv('application_test.csv').sort_values('SK_ID_CURR').reset_index(drop = True).loc[:1000, :]\n",
    "bureau_balance = pd.read_csv('bureau_balance.csv').sort_values('SK_ID_BUREAU').reset_index(drop = True).loc[:1000, :]\n",
    "bureau = pd.read_csv('bureau.csv').sort_values(['SK_ID_CURR', 'SK_ID_BUREAU']).reset_index(drop = True).loc[:1000, :]\n",
    "credit = pd.read_csv('credit_card_balance.csv').sort_values(['SK_ID_CURR', 'SK_ID_PREV']).reset_index(drop = True).loc[:1000, :]\n",
    "installments =  pd.read_csv('installments_payments.csv').sort_values(['SK_ID_CURR', 'SK_ID_PREV']).reset_index(drop = True).loc[:1000, :]\n",
    "cash = pd.read_csv('POS_CASH_balance.csv').sort_values(['SK_ID_CURR', 'SK_ID_PREV']).reset_index(drop = True).loc[:1000, :]\n",
    "previous = pd.read_csv('previous_application.csv').sort_values(['SK_ID_CURR', 'SK_ID_PREV']).reset_index(drop = True).loc[:1000, :]"
   ],
   "outputs": [],
   "metadata": {}
  },
  {
   "cell_type": "code",
   "execution_count": null,
   "source": [
    "# Add identifying column\n",
    "app_train['set'] = 'train'\n",
    "app_test['set'] = 'test'\n",
    "app_test[\"TARGET\"] = np.nan\n",
    "# Append the dataframes\n",
    "app = app_train.append(app_test, ignore_index = True)"
   ],
   "outputs": [],
   "metadata": {}
  },
  {
   "cell_type": "code",
   "execution_count": null,
   "source": [
    "#Entity set with id applications\n",
    "es = ft.EntitySet(id = 'clients')"
   ],
   "outputs": [],
   "metadata": {}
  },
  {
   "cell_type": "code",
   "execution_count": null,
   "source": [
    "#Entitiy with a unique index\n",
    "es = es.add_dataframe(dataframe_name = 'app_train', dataframe = app, index = 'SK_ID_CURR')\n",
    "es = es.add_dataframe(dataframe_name = 'bureau', dataframe = bureau, index = 'SK_ID_BUREAU')\n",
    "es = es.add_dataframe(dataframe_name = 'previous', dataframe = previous, index = 'SK_ID_PREV')\n",
    "#Entities that do not have a unique index\n",
    "es = es.add_dataframe(dataframe_name = 'bureau_balance', dataframe = bureau_balance,make_index = True, index = 'bureaubalance_index')\n",
    "es = es.add_dataframe(dataframe_name = 'cash', dataframe = cash,make_index = True, index = 'cash_index')\n",
    "es = es.add_dataframe(dataframe_name = 'installments', dataframe = installments,make_index = True, index = 'installments_index')\n",
    "es = es.add_dataframe(dataframe_name = 'credit', dataframe = credit, make_index = True, index = 'credit_index')"
   ],
   "outputs": [],
   "metadata": {}
  },
  {
   "cell_type": "code",
   "execution_count": null,
   "source": [
    "#Relationship between app and breau\n",
    "r_app_bureau = es.add_relationship('app_train','SK_ID_CURR','bureau','SK_ID_CURR')\n",
    "#Relationship between bureau and bureau balance\n",
    "r_bureau_balance = es.add_relationship('bureau','SK_ID_BUREAU','bureau_balance','SK_ID_BUREAU')\n",
    "# Relationship between current app and previous apps\n",
    "r_app_previous = es.add_relationship('app_train','SK_ID_CURR','previous','SK_ID_CURR')\n",
    "# Relationships between previous apps and cash, installments, and credit\n",
    "r_previous_cash = es.add_relationship('previous','SK_ID_PREV','cash','SK_ID_PREV')\n",
    "r_previous_installments = es.add_relationship('previous','SK_ID_PREV','installments','SK_ID_PREV')\n",
    "r_previous_credit = es.add_relationship('previous','SK_ID_PREV','credit','SK_ID_PREV')"
   ],
   "outputs": [],
   "metadata": {}
  },
  {
   "cell_type": "code",
   "execution_count": 79,
   "source": [
    "feature_matrix,feature_name = ft.dfs(entityset=es,target_dataframe_name='app_train',\n",
    "                                     agg_primitives = ['sum', 'count', 'min', 'max', 'mean','mode'],\n",
    "                                     max_depth = 2, features_only = False, verbose = True)"
   ],
   "outputs": [
    {
     "output_type": "stream",
     "name": "stdout",
     "text": [
      "Built 1211 features\n",
      "Elapsed: 00:05 | Progress: 100%|██████████\n"
     ]
    }
   ],
   "metadata": {}
  },
  {
   "cell_type": "code",
   "execution_count": 45,
   "source": [
    "feature_matrix.info()"
   ],
   "outputs": [
    {
     "output_type": "stream",
     "name": "stdout",
     "text": [
      "<class 'pandas.core.frame.DataFrame'>\n",
      "Int64Index: 2002 entries, 100002 to 106873\n",
      "Columns: 1211 entries, TARGET to SUM(credit.previous.SELLERPLACE_AREA)\n",
      "dtypes: Int64(6), category(93), float64(1073), int64(39)\n",
      "memory usage: 17.3 MB\n"
     ]
    }
   ],
   "metadata": {}
  },
  {
   "cell_type": "code",
   "execution_count": 123,
   "source": [
    "df_num = feature_matrix.select_dtypes(include='number')\n",
    "df_cat = feature_matrix.select_dtypes(include='category')\n",
    "df_num1 = df_num.drop(columns=['TARGET'])"
   ],
   "outputs": [],
   "metadata": {}
  },
  {
   "cell_type": "code",
   "execution_count": 125,
   "source": [
    "numeric_features = []\n",
    "categorical_features = []  \n",
    "numeric_features =  df_num.columns.values\n",
    "#numeric_features\n",
    "categorical_features = df_cat.columns.values\n",
    "numeric_features1 = df_num1.columns.values\n",
    "numeric_features1"
   ],
   "outputs": [
    {
     "output_type": "execute_result",
     "data": {
      "text/plain": [
       "array(['CNT_CHILDREN', 'AMT_INCOME_TOTAL', 'AMT_CREDIT', ...,\n",
       "       'SUM(credit.previous.RATE_INTEREST_PRIMARY)',\n",
       "       'SUM(credit.previous.RATE_INTEREST_PRIVILEGED)',\n",
       "       'SUM(credit.previous.SELLERPLACE_AREA)'], dtype=object)"
      ]
     },
     "metadata": {},
     "execution_count": 125
    }
   ],
   "metadata": {}
  },
  {
   "cell_type": "code",
   "execution_count": 163,
   "source": [
    "X = pd.DataFrame(feature_matrix.drop(columns=['TARGET']))\n",
    "\n",
    "y = pd.DataFrame(feature_matrix['TARGET'])\n",
    "X_train,X_valid,y_train,y_valid = train_test_split(X,y,shuffle=True)"
   ],
   "outputs": [],
   "metadata": {}
  },
  {
   "cell_type": "code",
   "execution_count": 165,
   "source": [
    "lgb_train = lgb.Dataset(X_train, y_train,\n",
    "                        categorical_feature=categorical_features,\n",
    "                        free_raw_data=False)\n",
    "\n",
    "lgb_eval = lgb.Dataset(X_valid, y_valid, reference=lgb_train,\n",
    "                       categorical_feature=categorical_features,\n",
    "                       free_raw_data=False)"
   ],
   "outputs": [],
   "metadata": {}
  },
  {
   "cell_type": "code",
   "execution_count": 167,
   "source": [
    "lgb_train"
   ],
   "outputs": [
    {
     "output_type": "execute_result",
     "data": {
      "text/plain": [
       "<lightgbm.basic.Dataset at 0x7fd3706dcd00>"
      ]
     },
     "metadata": {},
     "execution_count": 167
    }
   ],
   "metadata": {}
  },
  {
   "cell_type": "code",
   "execution_count": 172,
   "source": [
    "y.value_counts()"
   ],
   "outputs": [
    {
     "output_type": "execute_result",
     "data": {
      "text/plain": [
       "TARGET\n",
       "0.0       931\n",
       "1.0        70\n",
       "dtype: int64"
      ]
     },
     "metadata": {},
     "execution_count": 172
    }
   ],
   "metadata": {}
  },
  {
   "cell_type": "code",
   "execution_count": 174,
   "source": [
    "y1 = y.fillna(0)\n",
    "y1.value_counts()"
   ],
   "outputs": [
    {
     "output_type": "execute_result",
     "data": {
      "text/plain": [
       "TARGET\n",
       "0.0       1932\n",
       "1.0         70\n",
       "dtype: int64"
      ]
     },
     "metadata": {},
     "execution_count": 174
    }
   ],
   "metadata": {}
  },
  {
   "cell_type": "code",
   "execution_count": 155,
   "source": [
    "#パイプライン構築\n",
    "\n",
    "###特徴量\n",
    "#numeric_features = df_num.columns.values\n",
    "categorical_features = df_cat.columns.values \n",
    "###数値型\n",
    "numeric_transformer = Pipeline(steps=[\n",
    "    ('imputer',SimpleImputer(strategy='most_frequent')),#欠損値補完\n",
    "    ('scaler',StandardScaler())#標準化\n",
    "])\n",
    "\n",
    "###カテゴリ型\n",
    "categorical_transformer =  Pipeline(steps=[\n",
    "    ('imputer',SimpleImputer(strategy='most_frequent')),\n",
    "    ('transformer',OneHotEncoder(handle_unknown='ignore'))\n",
    "]) \n",
    "\n",
    "###特徴量を変換器にかける\n",
    "preprocesser = ColumnTransformer(transformers=[\n",
    "    ('num_transform',numeric_transformer,numeric_features1),\n",
    "    ('cat_transform',categorical_transformer,categorical_features)\n",
    "])\n",
    "\n",
    "pipeline = Pipeline(steps=[#変換器パイプラインから予測器へ\n",
    "    ('preprocesser',preprocesser),\n",
    "    ('classifier',lgb.LGBMClassifier())#パラメータを後で調整する\n",
    "])"
   ],
   "outputs": [],
   "metadata": {}
  },
  {
   "cell_type": "code",
   "execution_count": 43,
   "source": [
    "set_config(display='diagram')\n",
    "pipeline"
   ],
   "outputs": [
    {
     "output_type": "execute_result",
     "data": {
      "text/html": [
       "<style>#sk-24654f37-4adb-4e88-95a4-5a945eb64985 {color: black;background-color: white;}#sk-24654f37-4adb-4e88-95a4-5a945eb64985 pre{padding: 0;}#sk-24654f37-4adb-4e88-95a4-5a945eb64985 div.sk-toggleable {background-color: white;}#sk-24654f37-4adb-4e88-95a4-5a945eb64985 label.sk-toggleable__label {cursor: pointer;display: block;width: 100%;margin-bottom: 0;padding: 0.2em 0.3em;box-sizing: border-box;text-align: center;}#sk-24654f37-4adb-4e88-95a4-5a945eb64985 div.sk-toggleable__content {max-height: 0;max-width: 0;overflow: hidden;text-align: left;background-color: #f0f8ff;}#sk-24654f37-4adb-4e88-95a4-5a945eb64985 div.sk-toggleable__content pre {margin: 0.2em;color: black;border-radius: 0.25em;background-color: #f0f8ff;}#sk-24654f37-4adb-4e88-95a4-5a945eb64985 input.sk-toggleable__control:checked~div.sk-toggleable__content {max-height: 200px;max-width: 100%;overflow: auto;}#sk-24654f37-4adb-4e88-95a4-5a945eb64985 div.sk-estimator input.sk-toggleable__control:checked~label.sk-toggleable__label {background-color: #d4ebff;}#sk-24654f37-4adb-4e88-95a4-5a945eb64985 div.sk-label input.sk-toggleable__control:checked~label.sk-toggleable__label {background-color: #d4ebff;}#sk-24654f37-4adb-4e88-95a4-5a945eb64985 input.sk-hidden--visually {border: 0;clip: rect(1px 1px 1px 1px);clip: rect(1px, 1px, 1px, 1px);height: 1px;margin: -1px;overflow: hidden;padding: 0;position: absolute;width: 1px;}#sk-24654f37-4adb-4e88-95a4-5a945eb64985 div.sk-estimator {font-family: monospace;background-color: #f0f8ff;margin: 0.25em 0.25em;border: 1px dotted black;border-radius: 0.25em;box-sizing: border-box;}#sk-24654f37-4adb-4e88-95a4-5a945eb64985 div.sk-estimator:hover {background-color: #d4ebff;}#sk-24654f37-4adb-4e88-95a4-5a945eb64985 div.sk-parallel-item::after {content: \"\";width: 100%;border-bottom: 1px solid gray;flex-grow: 1;}#sk-24654f37-4adb-4e88-95a4-5a945eb64985 div.sk-label:hover label.sk-toggleable__label {background-color: #d4ebff;}#sk-24654f37-4adb-4e88-95a4-5a945eb64985 div.sk-serial::before {content: \"\";position: absolute;border-left: 1px solid gray;box-sizing: border-box;top: 2em;bottom: 0;left: 50%;}#sk-24654f37-4adb-4e88-95a4-5a945eb64985 div.sk-serial {display: flex;flex-direction: column;align-items: center;background-color: white;}#sk-24654f37-4adb-4e88-95a4-5a945eb64985 div.sk-item {z-index: 1;}#sk-24654f37-4adb-4e88-95a4-5a945eb64985 div.sk-parallel {display: flex;align-items: stretch;justify-content: center;background-color: white;}#sk-24654f37-4adb-4e88-95a4-5a945eb64985 div.sk-parallel-item {display: flex;flex-direction: column;position: relative;background-color: white;}#sk-24654f37-4adb-4e88-95a4-5a945eb64985 div.sk-parallel-item:first-child::after {align-self: flex-end;width: 50%;}#sk-24654f37-4adb-4e88-95a4-5a945eb64985 div.sk-parallel-item:last-child::after {align-self: flex-start;width: 50%;}#sk-24654f37-4adb-4e88-95a4-5a945eb64985 div.sk-parallel-item:only-child::after {width: 0;}#sk-24654f37-4adb-4e88-95a4-5a945eb64985 div.sk-dashed-wrapped {border: 1px dashed gray;margin: 0.2em;box-sizing: border-box;padding-bottom: 0.1em;background-color: white;position: relative;}#sk-24654f37-4adb-4e88-95a4-5a945eb64985 div.sk-label label {font-family: monospace;font-weight: bold;background-color: white;display: inline-block;line-height: 1.2em;}#sk-24654f37-4adb-4e88-95a4-5a945eb64985 div.sk-label-container {position: relative;z-index: 2;text-align: center;}#sk-24654f37-4adb-4e88-95a4-5a945eb64985 div.sk-container {display: inline-block;position: relative;}</style><div id=\"sk-24654f37-4adb-4e88-95a4-5a945eb64985\" class\"sk-top-container\"><div class=\"sk-container\"><div class=\"sk-item sk-dashed-wrapped\"><div class=\"sk-label-container\"><div class=\"sk-label sk-toggleable\"><input class=\"sk-toggleable__control sk-hidden--visually\" id=\"25731c6b-967e-4d8a-a8d7-ae8d64244d62\" type=\"checkbox\" ><label class=\"sk-toggleable__label\" for=\"25731c6b-967e-4d8a-a8d7-ae8d64244d62\">Pipeline</label><div class=\"sk-toggleable__content\"><pre>Pipeline(steps=[('preprocesser',\n",
       "                 ColumnTransformer(transformers=[('num_transform',\n",
       "                                                  Pipeline(steps=[('imputer',\n",
       "                                                                   SimpleImputer()),\n",
       "                                                                  ('scaler',\n",
       "                                                                   StandardScaler())]),\n",
       "                                                  array(['TARGET', 'CNT_CHILDREN', 'AMT_INCOME_TOTAL', ...,\n",
       "       'SUM(credit.previous.RATE_INTEREST_PRIMARY)',\n",
       "       'SUM(credit.previous.RATE_INTEREST_PRIVILEGED)',\n",
       "       'SUM(credit.previous.SELLERPLACE_AREA)'], dtype=o...\n",
       "       'MODE(credit.previous.NAME_PORTFOLIO)',\n",
       "       'MODE(credit.previous.NAME_PRODUCT_TYPE)',\n",
       "       'MODE(credit.previous.NAME_SELLER_INDUSTRY)',\n",
       "       'MODE(credit.previous.NAME_TYPE_SUITE)',\n",
       "       'MODE(credit.previous.NAME_YIELD_GROUP)',\n",
       "       'MODE(credit.previous.PRODUCT_COMBINATION)',\n",
       "       'MODE(credit.previous.WEEKDAY_APPR_PROCESS_START)'], dtype=object))])),\n",
       "                ('classifier', LGBMClassifier())])</pre></div></div></div><div class=\"sk-serial\"><div class=\"sk-item sk-dashed-wrapped\"><div class=\"sk-label-container\"><div class=\"sk-label sk-toggleable\"><input class=\"sk-toggleable__control sk-hidden--visually\" id=\"62f8f58e-c362-40d4-a236-4a95f81c38f5\" type=\"checkbox\" ><label class=\"sk-toggleable__label\" for=\"62f8f58e-c362-40d4-a236-4a95f81c38f5\">preprocesser: ColumnTransformer</label><div class=\"sk-toggleable__content\"><pre>ColumnTransformer(transformers=[('num_transform',\n",
       "                                 Pipeline(steps=[('imputer', SimpleImputer()),\n",
       "                                                 ('scaler', StandardScaler())]),\n",
       "                                 array(['TARGET', 'CNT_CHILDREN', 'AMT_INCOME_TOTAL', ...,\n",
       "       'SUM(credit.previous.RATE_INTEREST_PRIMARY)',\n",
       "       'SUM(credit.previous.RATE_INTEREST_PRIVILEGED)',\n",
       "       'SUM(credit.previous.SELLERPLACE_AREA)'], dtype=object)),\n",
       "                                ('cat_transform',\n",
       "                                 Pipelin...\n",
       "       'MODE(credit.previous.NAME_PAYMENT_TYPE)',\n",
       "       'MODE(credit.previous.NAME_PORTFOLIO)',\n",
       "       'MODE(credit.previous.NAME_PRODUCT_TYPE)',\n",
       "       'MODE(credit.previous.NAME_SELLER_INDUSTRY)',\n",
       "       'MODE(credit.previous.NAME_TYPE_SUITE)',\n",
       "       'MODE(credit.previous.NAME_YIELD_GROUP)',\n",
       "       'MODE(credit.previous.PRODUCT_COMBINATION)',\n",
       "       'MODE(credit.previous.WEEKDAY_APPR_PROCESS_START)'], dtype=object))])</pre></div></div></div><div class=\"sk-parallel\"><div class=\"sk-parallel-item\"><div class=\"sk-item\"><div class=\"sk-label-container\"><div class=\"sk-label sk-toggleable\"><input class=\"sk-toggleable__control sk-hidden--visually\" id=\"f65e6d4d-afe2-49e7-bb21-c6368074daa8\" type=\"checkbox\" ><label class=\"sk-toggleable__label\" for=\"f65e6d4d-afe2-49e7-bb21-c6368074daa8\">num_transform</label><div class=\"sk-toggleable__content\"><pre>['TARGET' 'CNT_CHILDREN' 'AMT_INCOME_TOTAL' ...\n",
       " 'SUM(credit.previous.RATE_INTEREST_PRIMARY)'\n",
       " 'SUM(credit.previous.RATE_INTEREST_PRIVILEGED)'\n",
       " 'SUM(credit.previous.SELLERPLACE_AREA)']</pre></div></div></div><div class=\"sk-serial\"><div class=\"sk-item\"><div class=\"sk-serial\"><div class=\"sk-item\"><div class=\"sk-estimator sk-toggleable\"><input class=\"sk-toggleable__control sk-hidden--visually\" id=\"7be32493-b663-457a-bcde-245941e4cc72\" type=\"checkbox\" ><label class=\"sk-toggleable__label\" for=\"7be32493-b663-457a-bcde-245941e4cc72\">SimpleImputer</label><div class=\"sk-toggleable__content\"><pre>SimpleImputer()</pre></div></div></div><div class=\"sk-item\"><div class=\"sk-estimator sk-toggleable\"><input class=\"sk-toggleable__control sk-hidden--visually\" id=\"8f5695cb-ac60-4cbd-b4d6-6797e00a73dd\" type=\"checkbox\" ><label class=\"sk-toggleable__label\" for=\"8f5695cb-ac60-4cbd-b4d6-6797e00a73dd\">StandardScaler</label><div class=\"sk-toggleable__content\"><pre>StandardScaler()</pre></div></div></div></div></div></div></div></div><div class=\"sk-parallel-item\"><div class=\"sk-item\"><div class=\"sk-label-container\"><div class=\"sk-label sk-toggleable\"><input class=\"sk-toggleable__control sk-hidden--visually\" id=\"5bbc3213-b955-41c7-866b-335a80eb58ff\" type=\"checkbox\" ><label class=\"sk-toggleable__label\" for=\"5bbc3213-b955-41c7-866b-335a80eb58ff\">cat_transform</label><div class=\"sk-toggleable__content\"><pre>['NAME_CONTRACT_TYPE' 'CODE_GENDER' 'FLAG_OWN_CAR' 'FLAG_OWN_REALTY'\n",
       " 'NAME_TYPE_SUITE' 'NAME_INCOME_TYPE' 'NAME_EDUCATION_TYPE'\n",
       " 'NAME_FAMILY_STATUS' 'NAME_HOUSING_TYPE' 'OCCUPATION_TYPE'\n",
       " 'WEEKDAY_APPR_PROCESS_START' 'ORGANIZATION_TYPE' 'FONDKAPREMONT_MODE'\n",
       " 'HOUSETYPE_MODE' 'WALLSMATERIAL_MODE' 'EMERGENCYSTATE_MODE' 'set'\n",
       " 'MODE(bureau.CREDIT_ACTIVE)' 'MODE(bureau.CREDIT_CURRENCY)'\n",
       " 'MODE(bureau.CREDIT_TYPE)' 'MODE(bureau_balance.STATUS)'\n",
       " 'MODE(previous.CHANNEL_TYPE)' 'MODE(previous.CODE_REJECT_REASON)'\n",
       " 'MODE(previous.FLAG_LAST_APPL_PER_CONTRACT)'\n",
       " 'MODE(previous.NAME_CASH_LOAN_PURPOSE)' 'MODE(previous.NAME_CLIENT_TYPE)'\n",
       " 'MODE(previous.NAME_CONTRACT_STATUS)' 'MODE(previous.NAME_CONTRACT_TYPE)'\n",
       " 'MODE(previous.NAME_GOODS_CATEGORY)' 'MODE(previous.NAME_PAYMENT_TYPE)'\n",
       " 'MODE(previous.NAME_PORTFOLIO)' 'MODE(previous.NAME_PRODUCT_TYPE)'\n",
       " 'MODE(previous.NAME_SELLER_INDUSTRY)' 'MODE(previous.NAME_TYPE_SUITE)'\n",
       " 'MODE(previous.NAME_YIELD_GROUP)' 'MODE(previous.PRODUCT_COMBINATION)'\n",
       " 'MODE(previous.WEEKDAY_APPR_PROCESS_START)'\n",
       " 'MODE(cash.NAME_CONTRACT_STATUS)' 'MODE(credit.NAME_CONTRACT_STATUS)'\n",
       " 'MODE(bureau.MODE(bureau_balance.STATUS))'\n",
       " 'MODE(bureau_balance.bureau.CREDIT_ACTIVE)'\n",
       " 'MODE(bureau_balance.bureau.CREDIT_CURRENCY)'\n",
       " 'MODE(bureau_balance.bureau.CREDIT_TYPE)'\n",
       " 'MODE(previous.MODE(cash.NAME_CONTRACT_STATUS))'\n",
       " 'MODE(previous.MODE(credit.NAME_CONTRACT_STATUS))'\n",
       " 'MODE(cash.previous.CHANNEL_TYPE)'\n",
       " 'MODE(cash.previous.CODE_REJECT_REASON)'\n",
       " 'MODE(cash.previous.FLAG_LAST_APPL_PER_CONTRACT)'\n",
       " 'MODE(cash.previous.NAME_CASH_LOAN_PURPOSE)'\n",
       " 'MODE(cash.previous.NAME_CLIENT_TYPE)'\n",
       " 'MODE(cash.previous.NAME_CONTRACT_STATUS)'\n",
       " 'MODE(cash.previous.NAME_CONTRACT_TYPE)'\n",
       " 'MODE(cash.previous.NAME_GOODS_CATEGORY)'\n",
       " 'MODE(cash.previous.NAME_PAYMENT_TYPE)'\n",
       " 'MODE(cash.previous.NAME_PORTFOLIO)'\n",
       " 'MODE(cash.previous.NAME_PRODUCT_TYPE)'\n",
       " 'MODE(cash.previous.NAME_SELLER_INDUSTRY)'\n",
       " 'MODE(cash.previous.NAME_TYPE_SUITE)'\n",
       " 'MODE(cash.previous.NAME_YIELD_GROUP)'\n",
       " 'MODE(cash.previous.PRODUCT_COMBINATION)'\n",
       " 'MODE(cash.previous.WEEKDAY_APPR_PROCESS_START)'\n",
       " 'MODE(installments.previous.CHANNEL_TYPE)'\n",
       " 'MODE(installments.previous.CODE_REJECT_REASON)'\n",
       " 'MODE(installments.previous.FLAG_LAST_APPL_PER_CONTRACT)'\n",
       " 'MODE(installments.previous.NAME_CASH_LOAN_PURPOSE)'\n",
       " 'MODE(installments.previous.NAME_CLIENT_TYPE)'\n",
       " 'MODE(installments.previous.NAME_CONTRACT_STATUS)'\n",
       " 'MODE(installments.previous.NAME_CONTRACT_TYPE)'\n",
       " 'MODE(installments.previous.NAME_GOODS_CATEGORY)'\n",
       " 'MODE(installments.previous.NAME_PAYMENT_TYPE)'\n",
       " 'MODE(installments.previous.NAME_PORTFOLIO)'\n",
       " 'MODE(installments.previous.NAME_PRODUCT_TYPE)'\n",
       " 'MODE(installments.previous.NAME_SELLER_INDUSTRY)'\n",
       " 'MODE(installments.previous.NAME_TYPE_SUITE)'\n",
       " 'MODE(installments.previous.NAME_YIELD_GROUP)'\n",
       " 'MODE(installments.previous.PRODUCT_COMBINATION)'\n",
       " 'MODE(installments.previous.WEEKDAY_APPR_PROCESS_START)'\n",
       " 'MODE(credit.previous.CHANNEL_TYPE)'\n",
       " 'MODE(credit.previous.CODE_REJECT_REASON)'\n",
       " 'MODE(credit.previous.FLAG_LAST_APPL_PER_CONTRACT)'\n",
       " 'MODE(credit.previous.NAME_CASH_LOAN_PURPOSE)'\n",
       " 'MODE(credit.previous.NAME_CLIENT_TYPE)'\n",
       " 'MODE(credit.previous.NAME_CONTRACT_STATUS)'\n",
       " 'MODE(credit.previous.NAME_CONTRACT_TYPE)'\n",
       " 'MODE(credit.previous.NAME_GOODS_CATEGORY)'\n",
       " 'MODE(credit.previous.NAME_PAYMENT_TYPE)'\n",
       " 'MODE(credit.previous.NAME_PORTFOLIO)'\n",
       " 'MODE(credit.previous.NAME_PRODUCT_TYPE)'\n",
       " 'MODE(credit.previous.NAME_SELLER_INDUSTRY)'\n",
       " 'MODE(credit.previous.NAME_TYPE_SUITE)'\n",
       " 'MODE(credit.previous.NAME_YIELD_GROUP)'\n",
       " 'MODE(credit.previous.PRODUCT_COMBINATION)'\n",
       " 'MODE(credit.previous.WEEKDAY_APPR_PROCESS_START)']</pre></div></div></div><div class=\"sk-serial\"><div class=\"sk-item\"><div class=\"sk-serial\"><div class=\"sk-item\"><div class=\"sk-estimator sk-toggleable\"><input class=\"sk-toggleable__control sk-hidden--visually\" id=\"61c8386a-2240-4aa3-962d-d0a910d9510b\" type=\"checkbox\" ><label class=\"sk-toggleable__label\" for=\"61c8386a-2240-4aa3-962d-d0a910d9510b\">SimpleImputer</label><div class=\"sk-toggleable__content\"><pre>SimpleImputer()</pre></div></div></div><div class=\"sk-item\"><div class=\"sk-estimator sk-toggleable\"><input class=\"sk-toggleable__control sk-hidden--visually\" id=\"968d29e3-326e-4dc5-9ec3-522c0bfe0fbb\" type=\"checkbox\" ><label class=\"sk-toggleable__label\" for=\"968d29e3-326e-4dc5-9ec3-522c0bfe0fbb\">OneHotEncoder</label><div class=\"sk-toggleable__content\"><pre>OneHotEncoder(handle_unknown='ignore')</pre></div></div></div></div></div></div></div></div></div></div><div class=\"sk-item\"><div class=\"sk-estimator sk-toggleable\"><input class=\"sk-toggleable__control sk-hidden--visually\" id=\"49d0087e-e4d4-4548-9517-9f09db294fa1\" type=\"checkbox\" ><label class=\"sk-toggleable__label\" for=\"49d0087e-e4d4-4548-9517-9f09db294fa1\">LGBMClassifier</label><div class=\"sk-toggleable__content\"><pre>LGBMClassifier()</pre></div></div></div></div></div></div></div>"
      ],
      "text/plain": [
       "Pipeline(steps=[('preprocesser',\n",
       "                 ColumnTransformer(transformers=[('num_transform',\n",
       "                                                  Pipeline(steps=[('imputer',\n",
       "                                                                   SimpleImputer()),\n",
       "                                                                  ('scaler',\n",
       "                                                                   StandardScaler())]),\n",
       "                                                  array(['TARGET', 'CNT_CHILDREN', 'AMT_INCOME_TOTAL', ...,\n",
       "       'SUM(credit.previous.RATE_INTEREST_PRIMARY)',\n",
       "       'SUM(credit.previous.RATE_INTEREST_PRIVILEGED)',\n",
       "       'SUM(credit.previous.SELLERPLACE_AREA)'], dtype=o...\n",
       "       'MODE(credit.previous.NAME_PORTFOLIO)',\n",
       "       'MODE(credit.previous.NAME_PRODUCT_TYPE)',\n",
       "       'MODE(credit.previous.NAME_SELLER_INDUSTRY)',\n",
       "       'MODE(credit.previous.NAME_TYPE_SUITE)',\n",
       "       'MODE(credit.previous.NAME_YIELD_GROUP)',\n",
       "       'MODE(credit.previous.PRODUCT_COMBINATION)',\n",
       "       'MODE(credit.previous.WEEKDAY_APPR_PROCESS_START)'], dtype=object))])),\n",
       "                ('classifier', LGBMClassifier())])"
      ]
     },
     "metadata": {},
     "execution_count": 43
    }
   ],
   "metadata": {}
  },
  {
   "cell_type": "code",
   "execution_count": 169,
   "source": [
    "pipeline.fit(X_train,y_train)"
   ],
   "outputs": [
    {
     "output_type": "error",
     "ename": "ValueError",
     "evalue": "Input contains NaN, infinity or a value too large for dtype('float64').",
     "traceback": [
      "\u001b[0;31m---------------------------------------------------------------------------\u001b[0m",
      "\u001b[0;31mValueError\u001b[0m                                Traceback (most recent call last)",
      "\u001b[0;32m<ipython-input-169-512c1e5af757>\u001b[0m in \u001b[0;36m<module>\u001b[0;34m\u001b[0m\n\u001b[0;32m----> 1\u001b[0;31m \u001b[0mpipeline\u001b[0m\u001b[0;34m.\u001b[0m\u001b[0mfit\u001b[0m\u001b[0;34m(\u001b[0m\u001b[0mX_train\u001b[0m\u001b[0;34m,\u001b[0m\u001b[0my_train\u001b[0m\u001b[0;34m)\u001b[0m\u001b[0;34m\u001b[0m\u001b[0;34m\u001b[0m\u001b[0m\n\u001b[0m",
      "\u001b[0;32m/opt/anaconda3/lib/python3.8/site-packages/sklearn/pipeline.py\u001b[0m in \u001b[0;36mfit\u001b[0;34m(self, X, y, **fit_params)\u001b[0m\n\u001b[1;32m    344\u001b[0m             \u001b[0;32mif\u001b[0m \u001b[0mself\u001b[0m\u001b[0;34m.\u001b[0m\u001b[0m_final_estimator\u001b[0m \u001b[0;34m!=\u001b[0m \u001b[0;34m'passthrough'\u001b[0m\u001b[0;34m:\u001b[0m\u001b[0;34m\u001b[0m\u001b[0;34m\u001b[0m\u001b[0m\n\u001b[1;32m    345\u001b[0m                 \u001b[0mfit_params_last_step\u001b[0m \u001b[0;34m=\u001b[0m \u001b[0mfit_params_steps\u001b[0m\u001b[0;34m[\u001b[0m\u001b[0mself\u001b[0m\u001b[0;34m.\u001b[0m\u001b[0msteps\u001b[0m\u001b[0;34m[\u001b[0m\u001b[0;34m-\u001b[0m\u001b[0;36m1\u001b[0m\u001b[0;34m]\u001b[0m\u001b[0;34m[\u001b[0m\u001b[0;36m0\u001b[0m\u001b[0;34m]\u001b[0m\u001b[0;34m]\u001b[0m\u001b[0;34m\u001b[0m\u001b[0;34m\u001b[0m\u001b[0m\n\u001b[0;32m--> 346\u001b[0;31m                 \u001b[0mself\u001b[0m\u001b[0;34m.\u001b[0m\u001b[0m_final_estimator\u001b[0m\u001b[0;34m.\u001b[0m\u001b[0mfit\u001b[0m\u001b[0;34m(\u001b[0m\u001b[0mXt\u001b[0m\u001b[0;34m,\u001b[0m \u001b[0my\u001b[0m\u001b[0;34m,\u001b[0m \u001b[0;34m**\u001b[0m\u001b[0mfit_params_last_step\u001b[0m\u001b[0;34m)\u001b[0m\u001b[0;34m\u001b[0m\u001b[0;34m\u001b[0m\u001b[0m\n\u001b[0m\u001b[1;32m    347\u001b[0m \u001b[0;34m\u001b[0m\u001b[0m\n\u001b[1;32m    348\u001b[0m         \u001b[0;32mreturn\u001b[0m \u001b[0mself\u001b[0m\u001b[0;34m\u001b[0m\u001b[0;34m\u001b[0m\u001b[0m\n",
      "\u001b[0;32m/opt/anaconda3/lib/python3.8/site-packages/lightgbm/sklearn.py\u001b[0m in \u001b[0;36mfit\u001b[0;34m(self, X, y, sample_weight, init_score, eval_set, eval_names, eval_sample_weight, eval_class_weight, eval_init_score, eval_metric, early_stopping_rounds, verbose, feature_name, categorical_feature, callbacks, init_model)\u001b[0m\n\u001b[1;32m    920\u001b[0m             callbacks=None, init_model=None):\n\u001b[1;32m    921\u001b[0m         \u001b[0;34m\"\"\"Docstring is inherited from the LGBMModel.\"\"\"\u001b[0m\u001b[0;34m\u001b[0m\u001b[0;34m\u001b[0m\u001b[0m\n\u001b[0;32m--> 922\u001b[0;31m         \u001b[0m_LGBMAssertAllFinite\u001b[0m\u001b[0;34m(\u001b[0m\u001b[0my\u001b[0m\u001b[0;34m)\u001b[0m\u001b[0;34m\u001b[0m\u001b[0;34m\u001b[0m\u001b[0m\n\u001b[0m\u001b[1;32m    923\u001b[0m         \u001b[0m_LGBMCheckClassificationTargets\u001b[0m\u001b[0;34m(\u001b[0m\u001b[0my\u001b[0m\u001b[0;34m)\u001b[0m\u001b[0;34m\u001b[0m\u001b[0;34m\u001b[0m\u001b[0m\n\u001b[1;32m    924\u001b[0m         \u001b[0mself\u001b[0m\u001b[0;34m.\u001b[0m\u001b[0m_le\u001b[0m \u001b[0;34m=\u001b[0m \u001b[0m_LGBMLabelEncoder\u001b[0m\u001b[0;34m(\u001b[0m\u001b[0;34m)\u001b[0m\u001b[0;34m.\u001b[0m\u001b[0mfit\u001b[0m\u001b[0;34m(\u001b[0m\u001b[0my\u001b[0m\u001b[0;34m)\u001b[0m\u001b[0;34m\u001b[0m\u001b[0;34m\u001b[0m\u001b[0m\n",
      "\u001b[0;32m/opt/anaconda3/lib/python3.8/site-packages/sklearn/utils/validation.py\u001b[0m in \u001b[0;36minner_f\u001b[0;34m(*args, **kwargs)\u001b[0m\n\u001b[1;32m     61\u001b[0m             \u001b[0mextra_args\u001b[0m \u001b[0;34m=\u001b[0m \u001b[0mlen\u001b[0m\u001b[0;34m(\u001b[0m\u001b[0margs\u001b[0m\u001b[0;34m)\u001b[0m \u001b[0;34m-\u001b[0m \u001b[0mlen\u001b[0m\u001b[0;34m(\u001b[0m\u001b[0mall_args\u001b[0m\u001b[0;34m)\u001b[0m\u001b[0;34m\u001b[0m\u001b[0;34m\u001b[0m\u001b[0m\n\u001b[1;32m     62\u001b[0m             \u001b[0;32mif\u001b[0m \u001b[0mextra_args\u001b[0m \u001b[0;34m<=\u001b[0m \u001b[0;36m0\u001b[0m\u001b[0;34m:\u001b[0m\u001b[0;34m\u001b[0m\u001b[0;34m\u001b[0m\u001b[0m\n\u001b[0;32m---> 63\u001b[0;31m                 \u001b[0;32mreturn\u001b[0m \u001b[0mf\u001b[0m\u001b[0;34m(\u001b[0m\u001b[0;34m*\u001b[0m\u001b[0margs\u001b[0m\u001b[0;34m,\u001b[0m \u001b[0;34m**\u001b[0m\u001b[0mkwargs\u001b[0m\u001b[0;34m)\u001b[0m\u001b[0;34m\u001b[0m\u001b[0;34m\u001b[0m\u001b[0m\n\u001b[0m\u001b[1;32m     64\u001b[0m \u001b[0;34m\u001b[0m\u001b[0m\n\u001b[1;32m     65\u001b[0m             \u001b[0;31m# extra_args > 0\u001b[0m\u001b[0;34m\u001b[0m\u001b[0;34m\u001b[0m\u001b[0;34m\u001b[0m\u001b[0m\n",
      "\u001b[0;32m/opt/anaconda3/lib/python3.8/site-packages/sklearn/utils/validation.py\u001b[0m in \u001b[0;36massert_all_finite\u001b[0;34m(X, allow_nan)\u001b[0m\n\u001b[1;32m    122\u001b[0m     \u001b[0mallow_nan\u001b[0m \u001b[0;34m:\u001b[0m \u001b[0mbool\u001b[0m\u001b[0;34m,\u001b[0m \u001b[0mdefault\u001b[0m\u001b[0;34m=\u001b[0m\u001b[0;32mFalse\u001b[0m\u001b[0;34m\u001b[0m\u001b[0;34m\u001b[0m\u001b[0m\n\u001b[1;32m    123\u001b[0m     \"\"\"\n\u001b[0;32m--> 124\u001b[0;31m     \u001b[0m_assert_all_finite\u001b[0m\u001b[0;34m(\u001b[0m\u001b[0mX\u001b[0m\u001b[0;34m.\u001b[0m\u001b[0mdata\u001b[0m \u001b[0;32mif\u001b[0m \u001b[0msp\u001b[0m\u001b[0;34m.\u001b[0m\u001b[0missparse\u001b[0m\u001b[0;34m(\u001b[0m\u001b[0mX\u001b[0m\u001b[0;34m)\u001b[0m \u001b[0;32melse\u001b[0m \u001b[0mX\u001b[0m\u001b[0;34m,\u001b[0m \u001b[0mallow_nan\u001b[0m\u001b[0;34m)\u001b[0m\u001b[0;34m\u001b[0m\u001b[0;34m\u001b[0m\u001b[0m\n\u001b[0m\u001b[1;32m    125\u001b[0m \u001b[0;34m\u001b[0m\u001b[0m\n\u001b[1;32m    126\u001b[0m \u001b[0;34m\u001b[0m\u001b[0m\n",
      "\u001b[0;32m/opt/anaconda3/lib/python3.8/site-packages/sklearn/utils/validation.py\u001b[0m in \u001b[0;36m_assert_all_finite\u001b[0;34m(X, allow_nan, msg_dtype)\u001b[0m\n\u001b[1;32m    101\u001b[0m                 not allow_nan and not np.isfinite(X).all()):\n\u001b[1;32m    102\u001b[0m             \u001b[0mtype_err\u001b[0m \u001b[0;34m=\u001b[0m \u001b[0;34m'infinity'\u001b[0m \u001b[0;32mif\u001b[0m \u001b[0mallow_nan\u001b[0m \u001b[0;32melse\u001b[0m \u001b[0;34m'NaN, infinity'\u001b[0m\u001b[0;34m\u001b[0m\u001b[0;34m\u001b[0m\u001b[0m\n\u001b[0;32m--> 103\u001b[0;31m             raise ValueError(\n\u001b[0m\u001b[1;32m    104\u001b[0m                     \u001b[0mmsg_err\u001b[0m\u001b[0;34m.\u001b[0m\u001b[0mformat\u001b[0m\u001b[0;34m\u001b[0m\u001b[0;34m\u001b[0m\u001b[0m\n\u001b[1;32m    105\u001b[0m                     (type_err,\n",
      "\u001b[0;31mValueError\u001b[0m: Input contains NaN, infinity or a value too large for dtype('float64')."
     ]
    }
   ],
   "metadata": {}
  },
  {
   "cell_type": "code",
   "execution_count": 139,
   "source": [
    "def objective(trial):\n",
    "    learning_rate = trial.suggest_loguniform('learning_rate', 0.1,0.2),\n",
    "    n_estimators, = trial.suggest_int('n_estimators', 20, 200),\n",
    "    max_depth, = trial.suggest_int('max_depth', 3, 9),\n",
    "    min_child_weight = trial.suggest_loguniform('min_child_weight', 0.5, 2),\n",
    "    min_child_samples, = trial.suggest_int('min_child_samples', 5, 20),\n",
    "    classifier = lgb.LGBMClassifier(learning_rate=learning_rate, \n",
    "                                    n_estimators=n_estimators,\n",
    "                                    max_depth=max_depth, \n",
    "                                    min_child_weight=min_child_weight,\n",
    "                                    min_child_samples=min_child_samples,\n",
    "                                    subsample=0.8, colsample_bytree=0.8,\n",
    "                                    verbose=-1, num_leaves=80)\n",
    "    classifier.fit(X_train, y_train)\n",
    "    #return classifier.score(X_train, y_train) # 正答率（train） の最適化\n",
    "    return np.linalg.norm(y_train - classifier.predict_proba(X_train)[:, 1], ord=1) # 尤度の最適化"
   ],
   "outputs": [],
   "metadata": {}
  },
  {
   "cell_type": "code",
   "execution_count": 129,
   "source": [
    "study = optuna.create_study(direction='minimize') # 最小化"
   ],
   "outputs": [
    {
     "output_type": "stream",
     "name": "stderr",
     "text": [
      "\u001b[32m[I 2022-01-05 17:09:48,861]\u001b[0m A new study created in memory with name: no-name-f21e57fd-e208-48d0-988c-d00fc4699516\u001b[0m\n"
     ]
    }
   ],
   "metadata": {}
  },
  {
   "cell_type": "code",
   "execution_count": 130,
   "source": [
    "study.optimize(objective, n_trials=100)"
   ],
   "outputs": [
    {
     "output_type": "stream",
     "name": "stderr",
     "text": [
      "\u001b[33m[W 2022-01-05 17:10:01,656]\u001b[0m Trial 0 failed because of the following error: ValueError(\"Input contains NaN, infinity or a value too large for dtype('float64').\")\u001b[0m\n",
      "Traceback (most recent call last):\n",
      "  File \"/opt/anaconda3/lib/python3.8/site-packages/optuna/study/_optimize.py\", line 213, in _run_trial\n",
      "    value_or_values = func(trial)\n",
      "  File \"<ipython-input-128-8d849f51be3f>\", line 14, in objective\n",
      "    classifier.fit(X_train, y_train)\n",
      "  File \"/opt/anaconda3/lib/python3.8/site-packages/lightgbm/sklearn.py\", line 922, in fit\n",
      "    _LGBMAssertAllFinite(y)\n",
      "  File \"/opt/anaconda3/lib/python3.8/site-packages/sklearn/utils/validation.py\", line 63, in inner_f\n",
      "    return f(*args, **kwargs)\n",
      "  File \"/opt/anaconda3/lib/python3.8/site-packages/sklearn/utils/validation.py\", line 124, in assert_all_finite\n",
      "    _assert_all_finite(X.data if sp.issparse(X) else X, allow_nan)\n",
      "  File \"/opt/anaconda3/lib/python3.8/site-packages/sklearn/utils/validation.py\", line 103, in _assert_all_finite\n",
      "    raise ValueError(\n",
      "ValueError: Input contains NaN, infinity or a value too large for dtype('float64').\n"
     ]
    },
    {
     "output_type": "error",
     "ename": "ValueError",
     "evalue": "Input contains NaN, infinity or a value too large for dtype('float64').",
     "traceback": [
      "\u001b[0;31m---------------------------------------------------------------------------\u001b[0m",
      "\u001b[0;31mValueError\u001b[0m                                Traceback (most recent call last)",
      "\u001b[0;32m<ipython-input-130-df802c542abd>\u001b[0m in \u001b[0;36m<module>\u001b[0;34m\u001b[0m\n\u001b[0;32m----> 1\u001b[0;31m \u001b[0mstudy\u001b[0m\u001b[0;34m.\u001b[0m\u001b[0moptimize\u001b[0m\u001b[0;34m(\u001b[0m\u001b[0mobjective\u001b[0m\u001b[0;34m,\u001b[0m \u001b[0mn_trials\u001b[0m\u001b[0;34m=\u001b[0m\u001b[0;36m100\u001b[0m\u001b[0;34m)\u001b[0m\u001b[0;34m\u001b[0m\u001b[0;34m\u001b[0m\u001b[0m\n\u001b[0m",
      "\u001b[0;32m/opt/anaconda3/lib/python3.8/site-packages/optuna/study/study.py\u001b[0m in \u001b[0;36moptimize\u001b[0;34m(self, func, n_trials, timeout, n_jobs, catch, callbacks, gc_after_trial, show_progress_bar)\u001b[0m\n\u001b[1;32m    398\u001b[0m             )\n\u001b[1;32m    399\u001b[0m \u001b[0;34m\u001b[0m\u001b[0m\n\u001b[0;32m--> 400\u001b[0;31m         _optimize(\n\u001b[0m\u001b[1;32m    401\u001b[0m             \u001b[0mstudy\u001b[0m\u001b[0;34m=\u001b[0m\u001b[0mself\u001b[0m\u001b[0;34m,\u001b[0m\u001b[0;34m\u001b[0m\u001b[0;34m\u001b[0m\u001b[0m\n\u001b[1;32m    402\u001b[0m             \u001b[0mfunc\u001b[0m\u001b[0;34m=\u001b[0m\u001b[0mfunc\u001b[0m\u001b[0;34m,\u001b[0m\u001b[0;34m\u001b[0m\u001b[0;34m\u001b[0m\u001b[0m\n",
      "\u001b[0;32m/opt/anaconda3/lib/python3.8/site-packages/optuna/study/_optimize.py\u001b[0m in \u001b[0;36m_optimize\u001b[0;34m(study, func, n_trials, timeout, n_jobs, catch, callbacks, gc_after_trial, show_progress_bar)\u001b[0m\n\u001b[1;32m     64\u001b[0m     \u001b[0;32mtry\u001b[0m\u001b[0;34m:\u001b[0m\u001b[0;34m\u001b[0m\u001b[0;34m\u001b[0m\u001b[0m\n\u001b[1;32m     65\u001b[0m         \u001b[0;32mif\u001b[0m \u001b[0mn_jobs\u001b[0m \u001b[0;34m==\u001b[0m \u001b[0;36m1\u001b[0m\u001b[0;34m:\u001b[0m\u001b[0;34m\u001b[0m\u001b[0;34m\u001b[0m\u001b[0m\n\u001b[0;32m---> 66\u001b[0;31m             _optimize_sequential(\n\u001b[0m\u001b[1;32m     67\u001b[0m                 \u001b[0mstudy\u001b[0m\u001b[0;34m,\u001b[0m\u001b[0;34m\u001b[0m\u001b[0;34m\u001b[0m\u001b[0m\n\u001b[1;32m     68\u001b[0m                 \u001b[0mfunc\u001b[0m\u001b[0;34m,\u001b[0m\u001b[0;34m\u001b[0m\u001b[0;34m\u001b[0m\u001b[0m\n",
      "\u001b[0;32m/opt/anaconda3/lib/python3.8/site-packages/optuna/study/_optimize.py\u001b[0m in \u001b[0;36m_optimize_sequential\u001b[0;34m(study, func, n_trials, timeout, catch, callbacks, gc_after_trial, reseed_sampler_rng, time_start, progress_bar)\u001b[0m\n\u001b[1;32m    161\u001b[0m \u001b[0;34m\u001b[0m\u001b[0m\n\u001b[1;32m    162\u001b[0m         \u001b[0;32mtry\u001b[0m\u001b[0;34m:\u001b[0m\u001b[0;34m\u001b[0m\u001b[0;34m\u001b[0m\u001b[0m\n\u001b[0;32m--> 163\u001b[0;31m             \u001b[0mtrial\u001b[0m \u001b[0;34m=\u001b[0m \u001b[0m_run_trial\u001b[0m\u001b[0;34m(\u001b[0m\u001b[0mstudy\u001b[0m\u001b[0;34m,\u001b[0m \u001b[0mfunc\u001b[0m\u001b[0;34m,\u001b[0m \u001b[0mcatch\u001b[0m\u001b[0;34m)\u001b[0m\u001b[0;34m\u001b[0m\u001b[0;34m\u001b[0m\u001b[0m\n\u001b[0m\u001b[1;32m    164\u001b[0m         \u001b[0;32mexcept\u001b[0m \u001b[0mException\u001b[0m\u001b[0;34m:\u001b[0m\u001b[0;34m\u001b[0m\u001b[0;34m\u001b[0m\u001b[0m\n\u001b[1;32m    165\u001b[0m             \u001b[0;32mraise\u001b[0m\u001b[0;34m\u001b[0m\u001b[0;34m\u001b[0m\u001b[0m\n",
      "\u001b[0;32m/opt/anaconda3/lib/python3.8/site-packages/optuna/study/_optimize.py\u001b[0m in \u001b[0;36m_run_trial\u001b[0;34m(study, func, catch)\u001b[0m\n\u001b[1;32m    262\u001b[0m \u001b[0;34m\u001b[0m\u001b[0m\n\u001b[1;32m    263\u001b[0m     \u001b[0;32mif\u001b[0m \u001b[0mstate\u001b[0m \u001b[0;34m==\u001b[0m \u001b[0mTrialState\u001b[0m\u001b[0;34m.\u001b[0m\u001b[0mFAIL\u001b[0m \u001b[0;32mand\u001b[0m \u001b[0mfunc_err\u001b[0m \u001b[0;32mis\u001b[0m \u001b[0;32mnot\u001b[0m \u001b[0;32mNone\u001b[0m \u001b[0;32mand\u001b[0m \u001b[0;32mnot\u001b[0m \u001b[0misinstance\u001b[0m\u001b[0;34m(\u001b[0m\u001b[0mfunc_err\u001b[0m\u001b[0;34m,\u001b[0m \u001b[0mcatch\u001b[0m\u001b[0;34m)\u001b[0m\u001b[0;34m:\u001b[0m\u001b[0;34m\u001b[0m\u001b[0;34m\u001b[0m\u001b[0m\n\u001b[0;32m--> 264\u001b[0;31m         \u001b[0;32mraise\u001b[0m \u001b[0mfunc_err\u001b[0m\u001b[0;34m\u001b[0m\u001b[0;34m\u001b[0m\u001b[0m\n\u001b[0m\u001b[1;32m    265\u001b[0m     \u001b[0;32mreturn\u001b[0m \u001b[0mtrial\u001b[0m\u001b[0;34m\u001b[0m\u001b[0;34m\u001b[0m\u001b[0m\n\u001b[1;32m    266\u001b[0m \u001b[0;34m\u001b[0m\u001b[0m\n",
      "\u001b[0;32m/opt/anaconda3/lib/python3.8/site-packages/optuna/study/_optimize.py\u001b[0m in \u001b[0;36m_run_trial\u001b[0;34m(study, func, catch)\u001b[0m\n\u001b[1;32m    211\u001b[0m \u001b[0;34m\u001b[0m\u001b[0m\n\u001b[1;32m    212\u001b[0m     \u001b[0;32mtry\u001b[0m\u001b[0;34m:\u001b[0m\u001b[0;34m\u001b[0m\u001b[0;34m\u001b[0m\u001b[0m\n\u001b[0;32m--> 213\u001b[0;31m         \u001b[0mvalue_or_values\u001b[0m \u001b[0;34m=\u001b[0m \u001b[0mfunc\u001b[0m\u001b[0;34m(\u001b[0m\u001b[0mtrial\u001b[0m\u001b[0;34m)\u001b[0m\u001b[0;34m\u001b[0m\u001b[0;34m\u001b[0m\u001b[0m\n\u001b[0m\u001b[1;32m    214\u001b[0m     \u001b[0;32mexcept\u001b[0m \u001b[0mexceptions\u001b[0m\u001b[0;34m.\u001b[0m\u001b[0mTrialPruned\u001b[0m \u001b[0;32mas\u001b[0m \u001b[0me\u001b[0m\u001b[0;34m:\u001b[0m\u001b[0;34m\u001b[0m\u001b[0;34m\u001b[0m\u001b[0m\n\u001b[1;32m    215\u001b[0m         \u001b[0;31m# TODO(mamu): Handle multi-objective cases.\u001b[0m\u001b[0;34m\u001b[0m\u001b[0;34m\u001b[0m\u001b[0;34m\u001b[0m\u001b[0m\n",
      "\u001b[0;32m<ipython-input-128-8d849f51be3f>\u001b[0m in \u001b[0;36mobjective\u001b[0;34m(trial)\u001b[0m\n\u001b[1;32m     12\u001b[0m                                     \u001b[0msubsample\u001b[0m\u001b[0;34m=\u001b[0m\u001b[0;36m0.8\u001b[0m\u001b[0;34m,\u001b[0m \u001b[0mcolsample_bytree\u001b[0m\u001b[0;34m=\u001b[0m\u001b[0;36m0.8\u001b[0m\u001b[0;34m,\u001b[0m\u001b[0;34m\u001b[0m\u001b[0;34m\u001b[0m\u001b[0m\n\u001b[1;32m     13\u001b[0m                                     verbose=-1, num_leaves=80)\n\u001b[0;32m---> 14\u001b[0;31m     \u001b[0mclassifier\u001b[0m\u001b[0;34m.\u001b[0m\u001b[0mfit\u001b[0m\u001b[0;34m(\u001b[0m\u001b[0mX_train\u001b[0m\u001b[0;34m,\u001b[0m \u001b[0my_train\u001b[0m\u001b[0;34m)\u001b[0m\u001b[0;34m\u001b[0m\u001b[0;34m\u001b[0m\u001b[0m\n\u001b[0m\u001b[1;32m     15\u001b[0m     \u001b[0;31m#return classifier.score(X_train, y_train) # 正答率（train） の最適化\u001b[0m\u001b[0;34m\u001b[0m\u001b[0;34m\u001b[0m\u001b[0;34m\u001b[0m\u001b[0m\n\u001b[1;32m     16\u001b[0m     \u001b[0;32mreturn\u001b[0m \u001b[0mnp\u001b[0m\u001b[0;34m.\u001b[0m\u001b[0mlinalg\u001b[0m\u001b[0;34m.\u001b[0m\u001b[0mnorm\u001b[0m\u001b[0;34m(\u001b[0m\u001b[0my_train\u001b[0m \u001b[0;34m-\u001b[0m \u001b[0mclassifier\u001b[0m\u001b[0;34m.\u001b[0m\u001b[0mpredict_proba\u001b[0m\u001b[0;34m(\u001b[0m\u001b[0mX_train\u001b[0m\u001b[0;34m)\u001b[0m\u001b[0;34m[\u001b[0m\u001b[0;34m:\u001b[0m\u001b[0;34m,\u001b[0m \u001b[0;36m1\u001b[0m\u001b[0;34m]\u001b[0m\u001b[0;34m,\u001b[0m \u001b[0mord\u001b[0m\u001b[0;34m=\u001b[0m\u001b[0;36m1\u001b[0m\u001b[0;34m)\u001b[0m \u001b[0;31m# 尤度の最適化\u001b[0m\u001b[0;34m\u001b[0m\u001b[0;34m\u001b[0m\u001b[0m\n",
      "\u001b[0;32m/opt/anaconda3/lib/python3.8/site-packages/lightgbm/sklearn.py\u001b[0m in \u001b[0;36mfit\u001b[0;34m(self, X, y, sample_weight, init_score, eval_set, eval_names, eval_sample_weight, eval_class_weight, eval_init_score, eval_metric, early_stopping_rounds, verbose, feature_name, categorical_feature, callbacks, init_model)\u001b[0m\n\u001b[1;32m    920\u001b[0m             callbacks=None, init_model=None):\n\u001b[1;32m    921\u001b[0m         \u001b[0;34m\"\"\"Docstring is inherited from the LGBMModel.\"\"\"\u001b[0m\u001b[0;34m\u001b[0m\u001b[0;34m\u001b[0m\u001b[0m\n\u001b[0;32m--> 922\u001b[0;31m         \u001b[0m_LGBMAssertAllFinite\u001b[0m\u001b[0;34m(\u001b[0m\u001b[0my\u001b[0m\u001b[0;34m)\u001b[0m\u001b[0;34m\u001b[0m\u001b[0;34m\u001b[0m\u001b[0m\n\u001b[0m\u001b[1;32m    923\u001b[0m         \u001b[0m_LGBMCheckClassificationTargets\u001b[0m\u001b[0;34m(\u001b[0m\u001b[0my\u001b[0m\u001b[0;34m)\u001b[0m\u001b[0;34m\u001b[0m\u001b[0;34m\u001b[0m\u001b[0m\n\u001b[1;32m    924\u001b[0m         \u001b[0mself\u001b[0m\u001b[0;34m.\u001b[0m\u001b[0m_le\u001b[0m \u001b[0;34m=\u001b[0m \u001b[0m_LGBMLabelEncoder\u001b[0m\u001b[0;34m(\u001b[0m\u001b[0;34m)\u001b[0m\u001b[0;34m.\u001b[0m\u001b[0mfit\u001b[0m\u001b[0;34m(\u001b[0m\u001b[0my\u001b[0m\u001b[0;34m)\u001b[0m\u001b[0;34m\u001b[0m\u001b[0;34m\u001b[0m\u001b[0m\n",
      "\u001b[0;32m/opt/anaconda3/lib/python3.8/site-packages/sklearn/utils/validation.py\u001b[0m in \u001b[0;36minner_f\u001b[0;34m(*args, **kwargs)\u001b[0m\n\u001b[1;32m     61\u001b[0m             \u001b[0mextra_args\u001b[0m \u001b[0;34m=\u001b[0m \u001b[0mlen\u001b[0m\u001b[0;34m(\u001b[0m\u001b[0margs\u001b[0m\u001b[0;34m)\u001b[0m \u001b[0;34m-\u001b[0m \u001b[0mlen\u001b[0m\u001b[0;34m(\u001b[0m\u001b[0mall_args\u001b[0m\u001b[0;34m)\u001b[0m\u001b[0;34m\u001b[0m\u001b[0;34m\u001b[0m\u001b[0m\n\u001b[1;32m     62\u001b[0m             \u001b[0;32mif\u001b[0m \u001b[0mextra_args\u001b[0m \u001b[0;34m<=\u001b[0m \u001b[0;36m0\u001b[0m\u001b[0;34m:\u001b[0m\u001b[0;34m\u001b[0m\u001b[0;34m\u001b[0m\u001b[0m\n\u001b[0;32m---> 63\u001b[0;31m                 \u001b[0;32mreturn\u001b[0m \u001b[0mf\u001b[0m\u001b[0;34m(\u001b[0m\u001b[0;34m*\u001b[0m\u001b[0margs\u001b[0m\u001b[0;34m,\u001b[0m \u001b[0;34m**\u001b[0m\u001b[0mkwargs\u001b[0m\u001b[0;34m)\u001b[0m\u001b[0;34m\u001b[0m\u001b[0;34m\u001b[0m\u001b[0m\n\u001b[0m\u001b[1;32m     64\u001b[0m \u001b[0;34m\u001b[0m\u001b[0m\n\u001b[1;32m     65\u001b[0m             \u001b[0;31m# extra_args > 0\u001b[0m\u001b[0;34m\u001b[0m\u001b[0;34m\u001b[0m\u001b[0;34m\u001b[0m\u001b[0m\n",
      "\u001b[0;32m/opt/anaconda3/lib/python3.8/site-packages/sklearn/utils/validation.py\u001b[0m in \u001b[0;36massert_all_finite\u001b[0;34m(X, allow_nan)\u001b[0m\n\u001b[1;32m    122\u001b[0m     \u001b[0mallow_nan\u001b[0m \u001b[0;34m:\u001b[0m \u001b[0mbool\u001b[0m\u001b[0;34m,\u001b[0m \u001b[0mdefault\u001b[0m\u001b[0;34m=\u001b[0m\u001b[0;32mFalse\u001b[0m\u001b[0;34m\u001b[0m\u001b[0;34m\u001b[0m\u001b[0m\n\u001b[1;32m    123\u001b[0m     \"\"\"\n\u001b[0;32m--> 124\u001b[0;31m     \u001b[0m_assert_all_finite\u001b[0m\u001b[0;34m(\u001b[0m\u001b[0mX\u001b[0m\u001b[0;34m.\u001b[0m\u001b[0mdata\u001b[0m \u001b[0;32mif\u001b[0m \u001b[0msp\u001b[0m\u001b[0;34m.\u001b[0m\u001b[0missparse\u001b[0m\u001b[0;34m(\u001b[0m\u001b[0mX\u001b[0m\u001b[0;34m)\u001b[0m \u001b[0;32melse\u001b[0m \u001b[0mX\u001b[0m\u001b[0;34m,\u001b[0m \u001b[0mallow_nan\u001b[0m\u001b[0;34m)\u001b[0m\u001b[0;34m\u001b[0m\u001b[0;34m\u001b[0m\u001b[0m\n\u001b[0m\u001b[1;32m    125\u001b[0m \u001b[0;34m\u001b[0m\u001b[0m\n\u001b[1;32m    126\u001b[0m \u001b[0;34m\u001b[0m\u001b[0m\n",
      "\u001b[0;32m/opt/anaconda3/lib/python3.8/site-packages/sklearn/utils/validation.py\u001b[0m in \u001b[0;36m_assert_all_finite\u001b[0;34m(X, allow_nan, msg_dtype)\u001b[0m\n\u001b[1;32m    101\u001b[0m                 not allow_nan and not np.isfinite(X).all()):\n\u001b[1;32m    102\u001b[0m             \u001b[0mtype_err\u001b[0m \u001b[0;34m=\u001b[0m \u001b[0;34m'infinity'\u001b[0m \u001b[0;32mif\u001b[0m \u001b[0mallow_nan\u001b[0m \u001b[0;32melse\u001b[0m \u001b[0;34m'NaN, infinity'\u001b[0m\u001b[0;34m\u001b[0m\u001b[0;34m\u001b[0m\u001b[0m\n\u001b[0;32m--> 103\u001b[0;31m             raise ValueError(\n\u001b[0m\u001b[1;32m    104\u001b[0m                     \u001b[0mmsg_err\u001b[0m\u001b[0;34m.\u001b[0m\u001b[0mformat\u001b[0m\u001b[0;34m\u001b[0m\u001b[0;34m\u001b[0m\u001b[0m\n\u001b[1;32m    105\u001b[0m                     (type_err,\n",
      "\u001b[0;31mValueError\u001b[0m: Input contains NaN, infinity or a value too large for dtype('float64')."
     ]
    }
   ],
   "metadata": {}
  }
 ],
 "metadata": {
  "orig_nbformat": 4,
  "language_info": {
   "name": "python",
   "version": "3.8.8",
   "mimetype": "text/x-python",
   "codemirror_mode": {
    "name": "ipython",
    "version": 3
   },
   "pygments_lexer": "ipython3",
   "nbconvert_exporter": "python",
   "file_extension": ".py"
  },
  "kernelspec": {
   "name": "python3",
   "display_name": "Python 3.8.8 64-bit ('base': conda)"
  },
  "interpreter": {
   "hash": "dca0ade3e726a953b501b15e8e990130d2b7799f14cfd9f4271676035ebe5511"
  }
 },
 "nbformat": 4,
 "nbformat_minor": 2
}
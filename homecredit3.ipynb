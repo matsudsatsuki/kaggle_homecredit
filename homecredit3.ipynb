{
 "cells": [
  {
   "cell_type": "code",
   "execution_count": 41,
   "source": [
    "import numpy as np\n",
    "import pandas as pd\n",
    "import matplotlib.pyplot as plt\n",
    "import seaborn as sns \n",
    "from sklearn.preprocessing import LabelEncoder\n",
    "import category_encoders as ce\n",
    "from sklearn.ensemble import RandomForestClassifier,GradientBoostingClassifier,AdaBoostClassifier\n",
    "from sklearn.compose import ColumnTransformer\n",
    "from sklearn.pipeline import Pipeline\n",
    "from sklearn import set_config\n",
    "from sklearn.model_selection import train_test_split\n",
    "from sklearn.model_selection import GridSearchCV,RandomizedSearchCV,ParameterGrid\n",
    "#import optuna.integration.lightgbm as lgb\n",
    "from sklearn.model_selection import cross_val_score\n",
    "import optuna\n",
    "from sklearn.metrics import accuracy_score,f1_score\n",
    "from sklearn.metrics import roc_auc_score\n",
    "import featuretools as ft\n",
    "import lightgbm as lgb\n",
    "\n",
    "%matplotlib inline"
   ],
   "outputs": [],
   "metadata": {}
  },
  {
   "cell_type": "code",
   "execution_count": 34,
   "source": [
    "from sklearn.impute import SimpleImputer\n",
    "from sklearn.preprocessing import StandardScaler,OneHotEncoder,MinMaxScaler,RobustScaler\n",
    "from sklearn.compose import ColumnTransformer\n",
    "from sklearn.pipeline import Pipeline\n",
    "from sklearn import set_config\n",
    "from sklearn.model_selection import GridSearchCV,RandomizedSearchCV,ParameterGrid\n",
    "from sklearn.metrics import accuracy_score,f1_score"
   ],
   "outputs": [],
   "metadata": {}
  },
  {
   "cell_type": "code",
   "execution_count": null,
   "source": [
    "app_train = pd.read_csv('application_train.csv').sort_values('SK_ID_CURR').reset_index(drop = True).loc[:1000, :]\n",
    "app_test = pd.read_csv('application_test.csv').sort_values('SK_ID_CURR').reset_index(drop = True).loc[:1000, :]\n",
    "bureau_balance = pd.read_csv('bureau_balance.csv').sort_values('SK_ID_BUREAU').reset_index(drop = True).loc[:1000, :]\n",
    "bureau = pd.read_csv('bureau.csv').sort_values(['SK_ID_CURR', 'SK_ID_BUREAU']).reset_index(drop = True).loc[:1000, :]\n",
    "credit = pd.read_csv('credit_card_balance.csv').sort_values(['SK_ID_CURR', 'SK_ID_PREV']).reset_index(drop = True).loc[:1000, :]\n",
    "installments =  pd.read_csv('installments_payments.csv').sort_values(['SK_ID_CURR', 'SK_ID_PREV']).reset_index(drop = True).loc[:1000, :]\n",
    "cash = pd.read_csv('POS_CASH_balance.csv').sort_values(['SK_ID_CURR', 'SK_ID_PREV']).reset_index(drop = True).loc[:1000, :]\n",
    "previous = pd.read_csv('previous_application.csv').sort_values(['SK_ID_CURR', 'SK_ID_PREV']).reset_index(drop = True).loc[:1000, :]"
   ],
   "outputs": [],
   "metadata": {}
  },
  {
   "cell_type": "code",
   "execution_count": null,
   "source": [
    "# Add identifying column\n",
    "app_train['set'] = 'train'\n",
    "app_test['set'] = 'test'\n",
    "app_test[\"TARGET\"] = np.nan\n",
    "# Append the dataframes\n",
    "app = app_train.append(app_test, ignore_index = True)"
   ],
   "outputs": [],
   "metadata": {}
  },
  {
   "cell_type": "code",
   "execution_count": null,
   "source": [
    "#Entity set with id applications\n",
    "es = ft.EntitySet(id = 'clients')"
   ],
   "outputs": [],
   "metadata": {}
  },
  {
   "cell_type": "code",
   "execution_count": null,
   "source": [
    "#Entitiy with a unique index\n",
    "es = es.add_dataframe(dataframe_name = 'app_train', dataframe = app, index = 'SK_ID_CURR')\n",
    "es = es.add_dataframe(dataframe_name = 'bureau', dataframe = bureau, index = 'SK_ID_BUREAU')\n",
    "es = es.add_dataframe(dataframe_name = 'previous', dataframe = previous, index = 'SK_ID_PREV')\n",
    "#Entities that do not have a unique index\n",
    "es = es.add_dataframe(dataframe_name = 'bureau_balance', dataframe = bureau_balance,make_index = True, index = 'bureaubalance_index')\n",
    "es = es.add_dataframe(dataframe_name = 'cash', dataframe = cash,make_index = True, index = 'cash_index')\n",
    "es = es.add_dataframe(dataframe_name = 'installments', dataframe = installments,make_index = True, index = 'installments_index')\n",
    "es = es.add_dataframe(dataframe_name = 'credit', dataframe = credit, make_index = True, index = 'credit_index')"
   ],
   "outputs": [],
   "metadata": {}
  },
  {
   "cell_type": "code",
   "execution_count": null,
   "source": [
    "#Relationship between app and breau\n",
    "r_app_bureau = es.add_relationship('app_train','SK_ID_CURR','bureau','SK_ID_CURR')\n",
    "#Relationship between bureau and bureau balance\n",
    "r_bureau_balance = es.add_relationship('bureau','SK_ID_BUREAU','bureau_balance','SK_ID_BUREAU')\n",
    "# Relationship between current app and previous apps\n",
    "r_app_previous = es.add_relationship('app_train','SK_ID_CURR','previous','SK_ID_CURR')\n",
    "# Relationships between previous apps and cash, installments, and credit\n",
    "r_previous_cash = es.add_relationship('previous','SK_ID_PREV','cash','SK_ID_PREV')\n",
    "r_previous_installments = es.add_relationship('previous','SK_ID_PREV','installments','SK_ID_PREV')\n",
    "r_previous_credit = es.add_relationship('previous','SK_ID_PREV','credit','SK_ID_PREV')"
   ],
   "outputs": [],
   "metadata": {}
  },
  {
   "cell_type": "code",
   "execution_count": null,
   "source": [
    "feature_matrix,feature_name = ft.dfs(entityset=es,target_dataframe_name='app_train',\n",
    "                                     agg_primitives = ['sum', 'count', 'min', 'max', 'mean','mode'],\n",
    "                                     max_depth = 2, features_only = False, verbose = True)"
   ],
   "outputs": [],
   "metadata": {}
  },
  {
   "cell_type": "code",
   "execution_count": null,
   "source": [
    "feature_matrix.info()"
   ],
   "outputs": [],
   "metadata": {}
  },
  {
   "cell_type": "code",
   "execution_count": null,
   "source": [
    "df_num = feature_matrix.select_dtypes(include='number')\n",
    "df_cat = feature_matrix.select_dtypes(include='category')"
   ],
   "outputs": [],
   "metadata": {}
  },
  {
   "cell_type": "code",
   "execution_count": null,
   "source": [
    "numeric_features = []\n",
    "categorical_features = []  \n",
    "numeric_features =  df_num.columns.values\n",
    "#numeric_features\n",
    "categorical_features = df_cat.columns.values\n",
    "#categorical_features"
   ],
   "outputs": [],
   "metadata": {}
  },
  {
   "cell_type": "code",
   "execution_count": 42,
   "source": [
    "#パイプライン構築\n",
    "\n",
    "##特徴量\n",
    "numeric_features = df_num.columns.values\n",
    "categorical_features = df_cat.columns.values \n",
    "###数値型\n",
    "numeric_transformer = Pipeline(steps=[\n",
    "    ('imputer',SimpleImputer()),#欠損値補完\n",
    "    ('scaler',StandardScaler())#標準化\n",
    "])\n",
    "\n",
    "###カテゴリ型\n",
    "categorical_transformer =  Pipeline(steps=[\n",
    "    ('imputer',SimpleImputer()),\n",
    "    ('transformer',OneHotEncoder(handle_unknown='ignore'))\n",
    "]) \n",
    "\n",
    "###特徴量を変換器にかける\n",
    "preprocesser = ColumnTransformer(transformers=[\n",
    "    ('num_transform',numeric_transformer,numeric_features),\n",
    "    ('cat_transform',categorical_transformer,categorical_features)\n",
    "])\n",
    "\n",
    "pipeline = Pipeline(steps=[#変換器パイプラインから予測器へ\n",
    "    ('preprocesser',preprocesser),\n",
    "    ('classifier',lgb.LGBMClassifier())#パラメータを後で調整する\n",
    "])"
   ],
   "outputs": [],
   "metadata": {}
  },
  {
   "cell_type": "code",
   "execution_count": 43,
   "source": [
    "set_config(display='diagram')\n",
    "pipeline"
   ],
   "outputs": [
    {
     "output_type": "execute_result",
     "data": {
      "text/html": [
       "<style>#sk-24654f37-4adb-4e88-95a4-5a945eb64985 {color: black;background-color: white;}#sk-24654f37-4adb-4e88-95a4-5a945eb64985 pre{padding: 0;}#sk-24654f37-4adb-4e88-95a4-5a945eb64985 div.sk-toggleable {background-color: white;}#sk-24654f37-4adb-4e88-95a4-5a945eb64985 label.sk-toggleable__label {cursor: pointer;display: block;width: 100%;margin-bottom: 0;padding: 0.2em 0.3em;box-sizing: border-box;text-align: center;}#sk-24654f37-4adb-4e88-95a4-5a945eb64985 div.sk-toggleable__content {max-height: 0;max-width: 0;overflow: hidden;text-align: left;background-color: #f0f8ff;}#sk-24654f37-4adb-4e88-95a4-5a945eb64985 div.sk-toggleable__content pre {margin: 0.2em;color: black;border-radius: 0.25em;background-color: #f0f8ff;}#sk-24654f37-4adb-4e88-95a4-5a945eb64985 input.sk-toggleable__control:checked~div.sk-toggleable__content {max-height: 200px;max-width: 100%;overflow: auto;}#sk-24654f37-4adb-4e88-95a4-5a945eb64985 div.sk-estimator input.sk-toggleable__control:checked~label.sk-toggleable__label {background-color: #d4ebff;}#sk-24654f37-4adb-4e88-95a4-5a945eb64985 div.sk-label input.sk-toggleable__control:checked~label.sk-toggleable__label {background-color: #d4ebff;}#sk-24654f37-4adb-4e88-95a4-5a945eb64985 input.sk-hidden--visually {border: 0;clip: rect(1px 1px 1px 1px);clip: rect(1px, 1px, 1px, 1px);height: 1px;margin: -1px;overflow: hidden;padding: 0;position: absolute;width: 1px;}#sk-24654f37-4adb-4e88-95a4-5a945eb64985 div.sk-estimator {font-family: monospace;background-color: #f0f8ff;margin: 0.25em 0.25em;border: 1px dotted black;border-radius: 0.25em;box-sizing: border-box;}#sk-24654f37-4adb-4e88-95a4-5a945eb64985 div.sk-estimator:hover {background-color: #d4ebff;}#sk-24654f37-4adb-4e88-95a4-5a945eb64985 div.sk-parallel-item::after {content: \"\";width: 100%;border-bottom: 1px solid gray;flex-grow: 1;}#sk-24654f37-4adb-4e88-95a4-5a945eb64985 div.sk-label:hover label.sk-toggleable__label {background-color: #d4ebff;}#sk-24654f37-4adb-4e88-95a4-5a945eb64985 div.sk-serial::before {content: \"\";position: absolute;border-left: 1px solid gray;box-sizing: border-box;top: 2em;bottom: 0;left: 50%;}#sk-24654f37-4adb-4e88-95a4-5a945eb64985 div.sk-serial {display: flex;flex-direction: column;align-items: center;background-color: white;}#sk-24654f37-4adb-4e88-95a4-5a945eb64985 div.sk-item {z-index: 1;}#sk-24654f37-4adb-4e88-95a4-5a945eb64985 div.sk-parallel {display: flex;align-items: stretch;justify-content: center;background-color: white;}#sk-24654f37-4adb-4e88-95a4-5a945eb64985 div.sk-parallel-item {display: flex;flex-direction: column;position: relative;background-color: white;}#sk-24654f37-4adb-4e88-95a4-5a945eb64985 div.sk-parallel-item:first-child::after {align-self: flex-end;width: 50%;}#sk-24654f37-4adb-4e88-95a4-5a945eb64985 div.sk-parallel-item:last-child::after {align-self: flex-start;width: 50%;}#sk-24654f37-4adb-4e88-95a4-5a945eb64985 div.sk-parallel-item:only-child::after {width: 0;}#sk-24654f37-4adb-4e88-95a4-5a945eb64985 div.sk-dashed-wrapped {border: 1px dashed gray;margin: 0.2em;box-sizing: border-box;padding-bottom: 0.1em;background-color: white;position: relative;}#sk-24654f37-4adb-4e88-95a4-5a945eb64985 div.sk-label label {font-family: monospace;font-weight: bold;background-color: white;display: inline-block;line-height: 1.2em;}#sk-24654f37-4adb-4e88-95a4-5a945eb64985 div.sk-label-container {position: relative;z-index: 2;text-align: center;}#sk-24654f37-4adb-4e88-95a4-5a945eb64985 div.sk-container {display: inline-block;position: relative;}</style><div id=\"sk-24654f37-4adb-4e88-95a4-5a945eb64985\" class\"sk-top-container\"><div class=\"sk-container\"><div class=\"sk-item sk-dashed-wrapped\"><div class=\"sk-label-container\"><div class=\"sk-label sk-toggleable\"><input class=\"sk-toggleable__control sk-hidden--visually\" id=\"25731c6b-967e-4d8a-a8d7-ae8d64244d62\" type=\"checkbox\" ><label class=\"sk-toggleable__label\" for=\"25731c6b-967e-4d8a-a8d7-ae8d64244d62\">Pipeline</label><div class=\"sk-toggleable__content\"><pre>Pipeline(steps=[('preprocesser',\n",
       "                 ColumnTransformer(transformers=[('num_transform',\n",
       "                                                  Pipeline(steps=[('imputer',\n",
       "                                                                   SimpleImputer()),\n",
       "                                                                  ('scaler',\n",
       "                                                                   StandardScaler())]),\n",
       "                                                  array(['TARGET', 'CNT_CHILDREN', 'AMT_INCOME_TOTAL', ...,\n",
       "       'SUM(credit.previous.RATE_INTEREST_PRIMARY)',\n",
       "       'SUM(credit.previous.RATE_INTEREST_PRIVILEGED)',\n",
       "       'SUM(credit.previous.SELLERPLACE_AREA)'], dtype=o...\n",
       "       'MODE(credit.previous.NAME_PORTFOLIO)',\n",
       "       'MODE(credit.previous.NAME_PRODUCT_TYPE)',\n",
       "       'MODE(credit.previous.NAME_SELLER_INDUSTRY)',\n",
       "       'MODE(credit.previous.NAME_TYPE_SUITE)',\n",
       "       'MODE(credit.previous.NAME_YIELD_GROUP)',\n",
       "       'MODE(credit.previous.PRODUCT_COMBINATION)',\n",
       "       'MODE(credit.previous.WEEKDAY_APPR_PROCESS_START)'], dtype=object))])),\n",
       "                ('classifier', LGBMClassifier())])</pre></div></div></div><div class=\"sk-serial\"><div class=\"sk-item sk-dashed-wrapped\"><div class=\"sk-label-container\"><div class=\"sk-label sk-toggleable\"><input class=\"sk-toggleable__control sk-hidden--visually\" id=\"62f8f58e-c362-40d4-a236-4a95f81c38f5\" type=\"checkbox\" ><label class=\"sk-toggleable__label\" for=\"62f8f58e-c362-40d4-a236-4a95f81c38f5\">preprocesser: ColumnTransformer</label><div class=\"sk-toggleable__content\"><pre>ColumnTransformer(transformers=[('num_transform',\n",
       "                                 Pipeline(steps=[('imputer', SimpleImputer()),\n",
       "                                                 ('scaler', StandardScaler())]),\n",
       "                                 array(['TARGET', 'CNT_CHILDREN', 'AMT_INCOME_TOTAL', ...,\n",
       "       'SUM(credit.previous.RATE_INTEREST_PRIMARY)',\n",
       "       'SUM(credit.previous.RATE_INTEREST_PRIVILEGED)',\n",
       "       'SUM(credit.previous.SELLERPLACE_AREA)'], dtype=object)),\n",
       "                                ('cat_transform',\n",
       "                                 Pipelin...\n",
       "       'MODE(credit.previous.NAME_PAYMENT_TYPE)',\n",
       "       'MODE(credit.previous.NAME_PORTFOLIO)',\n",
       "       'MODE(credit.previous.NAME_PRODUCT_TYPE)',\n",
       "       'MODE(credit.previous.NAME_SELLER_INDUSTRY)',\n",
       "       'MODE(credit.previous.NAME_TYPE_SUITE)',\n",
       "       'MODE(credit.previous.NAME_YIELD_GROUP)',\n",
       "       'MODE(credit.previous.PRODUCT_COMBINATION)',\n",
       "       'MODE(credit.previous.WEEKDAY_APPR_PROCESS_START)'], dtype=object))])</pre></div></div></div><div class=\"sk-parallel\"><div class=\"sk-parallel-item\"><div class=\"sk-item\"><div class=\"sk-label-container\"><div class=\"sk-label sk-toggleable\"><input class=\"sk-toggleable__control sk-hidden--visually\" id=\"f65e6d4d-afe2-49e7-bb21-c6368074daa8\" type=\"checkbox\" ><label class=\"sk-toggleable__label\" for=\"f65e6d4d-afe2-49e7-bb21-c6368074daa8\">num_transform</label><div class=\"sk-toggleable__content\"><pre>['TARGET' 'CNT_CHILDREN' 'AMT_INCOME_TOTAL' ...\n",
       " 'SUM(credit.previous.RATE_INTEREST_PRIMARY)'\n",
       " 'SUM(credit.previous.RATE_INTEREST_PRIVILEGED)'\n",
       " 'SUM(credit.previous.SELLERPLACE_AREA)']</pre></div></div></div><div class=\"sk-serial\"><div class=\"sk-item\"><div class=\"sk-serial\"><div class=\"sk-item\"><div class=\"sk-estimator sk-toggleable\"><input class=\"sk-toggleable__control sk-hidden--visually\" id=\"7be32493-b663-457a-bcde-245941e4cc72\" type=\"checkbox\" ><label class=\"sk-toggleable__label\" for=\"7be32493-b663-457a-bcde-245941e4cc72\">SimpleImputer</label><div class=\"sk-toggleable__content\"><pre>SimpleImputer()</pre></div></div></div><div class=\"sk-item\"><div class=\"sk-estimator sk-toggleable\"><input class=\"sk-toggleable__control sk-hidden--visually\" id=\"8f5695cb-ac60-4cbd-b4d6-6797e00a73dd\" type=\"checkbox\" ><label class=\"sk-toggleable__label\" for=\"8f5695cb-ac60-4cbd-b4d6-6797e00a73dd\">StandardScaler</label><div class=\"sk-toggleable__content\"><pre>StandardScaler()</pre></div></div></div></div></div></div></div></div><div class=\"sk-parallel-item\"><div class=\"sk-item\"><div class=\"sk-label-container\"><div class=\"sk-label sk-toggleable\"><input class=\"sk-toggleable__control sk-hidden--visually\" id=\"5bbc3213-b955-41c7-866b-335a80eb58ff\" type=\"checkbox\" ><label class=\"sk-toggleable__label\" for=\"5bbc3213-b955-41c7-866b-335a80eb58ff\">cat_transform</label><div class=\"sk-toggleable__content\"><pre>['NAME_CONTRACT_TYPE' 'CODE_GENDER' 'FLAG_OWN_CAR' 'FLAG_OWN_REALTY'\n",
       " 'NAME_TYPE_SUITE' 'NAME_INCOME_TYPE' 'NAME_EDUCATION_TYPE'\n",
       " 'NAME_FAMILY_STATUS' 'NAME_HOUSING_TYPE' 'OCCUPATION_TYPE'\n",
       " 'WEEKDAY_APPR_PROCESS_START' 'ORGANIZATION_TYPE' 'FONDKAPREMONT_MODE'\n",
       " 'HOUSETYPE_MODE' 'WALLSMATERIAL_MODE' 'EMERGENCYSTATE_MODE' 'set'\n",
       " 'MODE(bureau.CREDIT_ACTIVE)' 'MODE(bureau.CREDIT_CURRENCY)'\n",
       " 'MODE(bureau.CREDIT_TYPE)' 'MODE(bureau_balance.STATUS)'\n",
       " 'MODE(previous.CHANNEL_TYPE)' 'MODE(previous.CODE_REJECT_REASON)'\n",
       " 'MODE(previous.FLAG_LAST_APPL_PER_CONTRACT)'\n",
       " 'MODE(previous.NAME_CASH_LOAN_PURPOSE)' 'MODE(previous.NAME_CLIENT_TYPE)'\n",
       " 'MODE(previous.NAME_CONTRACT_STATUS)' 'MODE(previous.NAME_CONTRACT_TYPE)'\n",
       " 'MODE(previous.NAME_GOODS_CATEGORY)' 'MODE(previous.NAME_PAYMENT_TYPE)'\n",
       " 'MODE(previous.NAME_PORTFOLIO)' 'MODE(previous.NAME_PRODUCT_TYPE)'\n",
       " 'MODE(previous.NAME_SELLER_INDUSTRY)' 'MODE(previous.NAME_TYPE_SUITE)'\n",
       " 'MODE(previous.NAME_YIELD_GROUP)' 'MODE(previous.PRODUCT_COMBINATION)'\n",
       " 'MODE(previous.WEEKDAY_APPR_PROCESS_START)'\n",
       " 'MODE(cash.NAME_CONTRACT_STATUS)' 'MODE(credit.NAME_CONTRACT_STATUS)'\n",
       " 'MODE(bureau.MODE(bureau_balance.STATUS))'\n",
       " 'MODE(bureau_balance.bureau.CREDIT_ACTIVE)'\n",
       " 'MODE(bureau_balance.bureau.CREDIT_CURRENCY)'\n",
       " 'MODE(bureau_balance.bureau.CREDIT_TYPE)'\n",
       " 'MODE(previous.MODE(cash.NAME_CONTRACT_STATUS))'\n",
       " 'MODE(previous.MODE(credit.NAME_CONTRACT_STATUS))'\n",
       " 'MODE(cash.previous.CHANNEL_TYPE)'\n",
       " 'MODE(cash.previous.CODE_REJECT_REASON)'\n",
       " 'MODE(cash.previous.FLAG_LAST_APPL_PER_CONTRACT)'\n",
       " 'MODE(cash.previous.NAME_CASH_LOAN_PURPOSE)'\n",
       " 'MODE(cash.previous.NAME_CLIENT_TYPE)'\n",
       " 'MODE(cash.previous.NAME_CONTRACT_STATUS)'\n",
       " 'MODE(cash.previous.NAME_CONTRACT_TYPE)'\n",
       " 'MODE(cash.previous.NAME_GOODS_CATEGORY)'\n",
       " 'MODE(cash.previous.NAME_PAYMENT_TYPE)'\n",
       " 'MODE(cash.previous.NAME_PORTFOLIO)'\n",
       " 'MODE(cash.previous.NAME_PRODUCT_TYPE)'\n",
       " 'MODE(cash.previous.NAME_SELLER_INDUSTRY)'\n",
       " 'MODE(cash.previous.NAME_TYPE_SUITE)'\n",
       " 'MODE(cash.previous.NAME_YIELD_GROUP)'\n",
       " 'MODE(cash.previous.PRODUCT_COMBINATION)'\n",
       " 'MODE(cash.previous.WEEKDAY_APPR_PROCESS_START)'\n",
       " 'MODE(installments.previous.CHANNEL_TYPE)'\n",
       " 'MODE(installments.previous.CODE_REJECT_REASON)'\n",
       " 'MODE(installments.previous.FLAG_LAST_APPL_PER_CONTRACT)'\n",
       " 'MODE(installments.previous.NAME_CASH_LOAN_PURPOSE)'\n",
       " 'MODE(installments.previous.NAME_CLIENT_TYPE)'\n",
       " 'MODE(installments.previous.NAME_CONTRACT_STATUS)'\n",
       " 'MODE(installments.previous.NAME_CONTRACT_TYPE)'\n",
       " 'MODE(installments.previous.NAME_GOODS_CATEGORY)'\n",
       " 'MODE(installments.previous.NAME_PAYMENT_TYPE)'\n",
       " 'MODE(installments.previous.NAME_PORTFOLIO)'\n",
       " 'MODE(installments.previous.NAME_PRODUCT_TYPE)'\n",
       " 'MODE(installments.previous.NAME_SELLER_INDUSTRY)'\n",
       " 'MODE(installments.previous.NAME_TYPE_SUITE)'\n",
       " 'MODE(installments.previous.NAME_YIELD_GROUP)'\n",
       " 'MODE(installments.previous.PRODUCT_COMBINATION)'\n",
       " 'MODE(installments.previous.WEEKDAY_APPR_PROCESS_START)'\n",
       " 'MODE(credit.previous.CHANNEL_TYPE)'\n",
       " 'MODE(credit.previous.CODE_REJECT_REASON)'\n",
       " 'MODE(credit.previous.FLAG_LAST_APPL_PER_CONTRACT)'\n",
       " 'MODE(credit.previous.NAME_CASH_LOAN_PURPOSE)'\n",
       " 'MODE(credit.previous.NAME_CLIENT_TYPE)'\n",
       " 'MODE(credit.previous.NAME_CONTRACT_STATUS)'\n",
       " 'MODE(credit.previous.NAME_CONTRACT_TYPE)'\n",
       " 'MODE(credit.previous.NAME_GOODS_CATEGORY)'\n",
       " 'MODE(credit.previous.NAME_PAYMENT_TYPE)'\n",
       " 'MODE(credit.previous.NAME_PORTFOLIO)'\n",
       " 'MODE(credit.previous.NAME_PRODUCT_TYPE)'\n",
       " 'MODE(credit.previous.NAME_SELLER_INDUSTRY)'\n",
       " 'MODE(credit.previous.NAME_TYPE_SUITE)'\n",
       " 'MODE(credit.previous.NAME_YIELD_GROUP)'\n",
       " 'MODE(credit.previous.PRODUCT_COMBINATION)'\n",
       " 'MODE(credit.previous.WEEKDAY_APPR_PROCESS_START)']</pre></div></div></div><div class=\"sk-serial\"><div class=\"sk-item\"><div class=\"sk-serial\"><div class=\"sk-item\"><div class=\"sk-estimator sk-toggleable\"><input class=\"sk-toggleable__control sk-hidden--visually\" id=\"61c8386a-2240-4aa3-962d-d0a910d9510b\" type=\"checkbox\" ><label class=\"sk-toggleable__label\" for=\"61c8386a-2240-4aa3-962d-d0a910d9510b\">SimpleImputer</label><div class=\"sk-toggleable__content\"><pre>SimpleImputer()</pre></div></div></div><div class=\"sk-item\"><div class=\"sk-estimator sk-toggleable\"><input class=\"sk-toggleable__control sk-hidden--visually\" id=\"968d29e3-326e-4dc5-9ec3-522c0bfe0fbb\" type=\"checkbox\" ><label class=\"sk-toggleable__label\" for=\"968d29e3-326e-4dc5-9ec3-522c0bfe0fbb\">OneHotEncoder</label><div class=\"sk-toggleable__content\"><pre>OneHotEncoder(handle_unknown='ignore')</pre></div></div></div></div></div></div></div></div></div></div><div class=\"sk-item\"><div class=\"sk-estimator sk-toggleable\"><input class=\"sk-toggleable__control sk-hidden--visually\" id=\"49d0087e-e4d4-4548-9517-9f09db294fa1\" type=\"checkbox\" ><label class=\"sk-toggleable__label\" for=\"49d0087e-e4d4-4548-9517-9f09db294fa1\">LGBMClassifier</label><div class=\"sk-toggleable__content\"><pre>LGBMClassifier()</pre></div></div></div></div></div></div></div>"
      ],
      "text/plain": [
       "Pipeline(steps=[('preprocesser',\n",
       "                 ColumnTransformer(transformers=[('num_transform',\n",
       "                                                  Pipeline(steps=[('imputer',\n",
       "                                                                   SimpleImputer()),\n",
       "                                                                  ('scaler',\n",
       "                                                                   StandardScaler())]),\n",
       "                                                  array(['TARGET', 'CNT_CHILDREN', 'AMT_INCOME_TOTAL', ...,\n",
       "       'SUM(credit.previous.RATE_INTEREST_PRIMARY)',\n",
       "       'SUM(credit.previous.RATE_INTEREST_PRIVILEGED)',\n",
       "       'SUM(credit.previous.SELLERPLACE_AREA)'], dtype=o...\n",
       "       'MODE(credit.previous.NAME_PORTFOLIO)',\n",
       "       'MODE(credit.previous.NAME_PRODUCT_TYPE)',\n",
       "       'MODE(credit.previous.NAME_SELLER_INDUSTRY)',\n",
       "       'MODE(credit.previous.NAME_TYPE_SUITE)',\n",
       "       'MODE(credit.previous.NAME_YIELD_GROUP)',\n",
       "       'MODE(credit.previous.PRODUCT_COMBINATION)',\n",
       "       'MODE(credit.previous.WEEKDAY_APPR_PROCESS_START)'], dtype=object))])),\n",
       "                ('classifier', LGBMClassifier())])"
      ]
     },
     "metadata": {},
     "execution_count": 43
    }
   ],
   "metadata": {}
  },
  {
   "cell_type": "code",
   "execution_count": null,
   "source": [],
   "outputs": [],
   "metadata": {}
  }
 ],
 "metadata": {
  "orig_nbformat": 4,
  "language_info": {
   "name": "python",
   "version": "3.8.8",
   "mimetype": "text/x-python",
   "codemirror_mode": {
    "name": "ipython",
    "version": 3
   },
   "pygments_lexer": "ipython3",
   "nbconvert_exporter": "python",
   "file_extension": ".py"
  },
  "kernelspec": {
   "name": "python3",
   "display_name": "Python 3.8.8 64-bit ('base': conda)"
  },
  "interpreter": {
   "hash": "dca0ade3e726a953b501b15e8e990130d2b7799f14cfd9f4271676035ebe5511"
  }
 },
 "nbformat": 4,
 "nbformat_minor": 2
}